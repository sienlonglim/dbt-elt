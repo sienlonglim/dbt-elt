{
 "cells": [
  {
   "cell_type": "code",
   "execution_count": 12,
   "metadata": {},
   "outputs": [],
   "source": [
    "import json\n",
    "import pandas as pd\n",
    "import requests\n",
    "from datetime import datetime\n",
    "from pandas import json_normalize"
   ]
  },
  {
   "cell_type": "code",
   "execution_count": 27,
   "metadata": {},
   "outputs": [
    {
     "data": {
      "text/html": [
       "<div>\n",
       "<style scoped>\n",
       "    .dataframe tbody tr th:only-of-type {\n",
       "        vertical-align: middle;\n",
       "    }\n",
       "\n",
       "    .dataframe tbody tr th {\n",
       "        vertical-align: top;\n",
       "    }\n",
       "\n",
       "    .dataframe thead th {\n",
       "        text-align: right;\n",
       "    }\n",
       "</style>\n",
       "<table border=\"1\" class=\"dataframe\">\n",
       "  <thead>\n",
       "    <tr style=\"text-align: right;\">\n",
       "      <th></th>\n",
       "      <th>id</th>\n",
       "      <th>device_id</th>\n",
       "      <th>name</th>\n",
       "      <th>location.latitude</th>\n",
       "      <th>location.longitude</th>\n",
       "    </tr>\n",
       "  </thead>\n",
       "  <tbody>\n",
       "    <tr>\n",
       "      <th>0</th>\n",
       "      <td>S117</td>\n",
       "      <td>S117</td>\n",
       "      <td>Banyan Road</td>\n",
       "      <td>1.25600</td>\n",
       "      <td>103.67900</td>\n",
       "    </tr>\n",
       "    <tr>\n",
       "      <th>1</th>\n",
       "      <td>S107</td>\n",
       "      <td>S107</td>\n",
       "      <td>East Coast Parkway</td>\n",
       "      <td>1.31350</td>\n",
       "      <td>103.96250</td>\n",
       "    </tr>\n",
       "    <tr>\n",
       "      <th>2</th>\n",
       "      <td>S108</td>\n",
       "      <td>S108</td>\n",
       "      <td>Marina Gardens Drive</td>\n",
       "      <td>1.27990</td>\n",
       "      <td>103.87030</td>\n",
       "    </tr>\n",
       "    <tr>\n",
       "      <th>3</th>\n",
       "      <td>S104</td>\n",
       "      <td>S104</td>\n",
       "      <td>Woodlands Avenue 9</td>\n",
       "      <td>1.44387</td>\n",
       "      <td>103.78538</td>\n",
       "    </tr>\n",
       "  </tbody>\n",
       "</table>\n",
       "</div>"
      ],
      "text/plain": [
       "     id device_id                  name  location.latitude  location.longitude\n",
       "0  S117      S117           Banyan Road            1.25600           103.67900\n",
       "1  S107      S107    East Coast Parkway            1.31350           103.96250\n",
       "2  S108      S108  Marina Gardens Drive            1.27990           103.87030\n",
       "3  S104      S104    Woodlands Avenue 9            1.44387           103.78538"
      ]
     },
     "execution_count": 27,
     "metadata": {},
     "output_type": "execute_result"
    }
   ],
   "source": [
    "curr_time = datetime.now()\n",
    "formatted_timestr = curr_time.strftime(\"%Y-%m-%dT%H:%M:%S\")\n",
    "air_temperature_url = \"https://api.data.gov.sg/v1/environment/air-temperature\"\n",
    "payload = {'date_time': formatted_timestr}\n",
    "response = requests.get(air_temperature_url, params=payload)\n",
    "data = response.json()\n",
    "\n",
    "\n",
    "df_metadata = json_normalize(data['metadata']['stations'])\n",
    "df_metadata"
   ]
  },
  {
   "cell_type": "code",
   "execution_count": 32,
   "metadata": {},
   "outputs": [
    {
     "data": {
      "text/html": [
       "<div>\n",
       "<style scoped>\n",
       "    .dataframe tbody tr th:only-of-type {\n",
       "        vertical-align: middle;\n",
       "    }\n",
       "\n",
       "    .dataframe tbody tr th {\n",
       "        vertical-align: top;\n",
       "    }\n",
       "\n",
       "    .dataframe thead th {\n",
       "        text-align: right;\n",
       "    }\n",
       "</style>\n",
       "<table border=\"1\" class=\"dataframe\">\n",
       "  <thead>\n",
       "    <tr style=\"text-align: right;\">\n",
       "      <th></th>\n",
       "      <th>station_id</th>\n",
       "      <th>value</th>\n",
       "    </tr>\n",
       "    <tr>\n",
       "      <th>datetime</th>\n",
       "      <th></th>\n",
       "      <th></th>\n",
       "    </tr>\n",
       "  </thead>\n",
       "  <tbody>\n",
       "    <tr>\n",
       "      <th>2024-05-11 02:58:48</th>\n",
       "      <td>S117</td>\n",
       "      <td>28.8</td>\n",
       "    </tr>\n",
       "    <tr>\n",
       "      <th>2024-05-11 02:58:48</th>\n",
       "      <td>S107</td>\n",
       "      <td>29.9</td>\n",
       "    </tr>\n",
       "    <tr>\n",
       "      <th>2024-05-11 02:58:48</th>\n",
       "      <td>S108</td>\n",
       "      <td>28.7</td>\n",
       "    </tr>\n",
       "    <tr>\n",
       "      <th>2024-05-11 02:58:48</th>\n",
       "      <td>S104</td>\n",
       "      <td>27.7</td>\n",
       "    </tr>\n",
       "  </tbody>\n",
       "</table>\n",
       "</div>"
      ],
      "text/plain": [
       "                    station_id  value\n",
       "datetime                             \n",
       "2024-05-11 02:58:48       S117   28.8\n",
       "2024-05-11 02:58:48       S107   29.9\n",
       "2024-05-11 02:58:48       S108   28.7\n",
       "2024-05-11 02:58:48       S104   27.7"
      ]
     },
     "execution_count": 32,
     "metadata": {},
     "output_type": "execute_result"
    }
   ],
   "source": [
    "df_readings = pd.DataFrame(data['items'][0]['readings'])\n",
    "df_readings['datetime'] = pd.Timestamp(formatted_timestr)\n",
    "df_readings = df_readings.set_index('datetime')"
   ]
  }
 ],
 "metadata": {
  "kernelspec": {
   "display_name": ".venv",
   "language": "python",
   "name": "python3"
  },
  "language_info": {
   "codemirror_mode": {
    "name": "ipython",
    "version": 3
   },
   "file_extension": ".py",
   "mimetype": "text/x-python",
   "name": "python",
   "nbconvert_exporter": "python",
   "pygments_lexer": "ipython3",
   "version": "3.9.13"
  }
 },
 "nbformat": 4,
 "nbformat_minor": 2
}
