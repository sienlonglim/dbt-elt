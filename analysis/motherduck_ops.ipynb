{
 "cells": [
  {
   "cell_type": "code",
   "execution_count": null,
   "metadata": {},
   "outputs": [],
   "source": [
    "import os\n",
    "\n",
    "from customlib.sqldao import DatabaseAccessObject\n",
    "\n",
    "sql_conn = DatabaseAccessObject(db=\"MD\")"
   ]
  },
  {
   "cell_type": "code",
   "execution_count": null,
   "metadata": {},
   "outputs": [
    {
     "data": {
      "text/plain": [
       "┌───────────────┐\n",
       "│ database_name │\n",
       "│    varchar    │\n",
       "├───────────────┤\n",
       "│ my_db         │\n",
       "│ sample_data   │\n",
       "└───────────────┘"
      ]
     },
     "metadata": {},
     "output_type": "display_data"
    }
   ],
   "source": [
    "sql_conn.query_db(\"show databases\")"
   ]
  },
  {
   "cell_type": "code",
   "execution_count": null,
   "metadata": {},
   "outputs": [],
   "source": [
    "sql_conn.query_db(\n",
    "f\"\"\"CREATE SECRET IN MOTHERDUCK (\n",
    "    TYPE S3,\n",
    "    KEY_ID '{os.environ['AWS_ACCESS_KEY_ID']}',\n",
    "    SECRET '{os.environ['AWS_SECRET_ACCESS_KEY']}',\n",
    "    REGION '{os.environ['REGION']}'\n",
    ");\n",
    "\"\"\"\n",
    ")"
   ]
  },
  {
   "cell_type": "code",
   "execution_count": null,
   "metadata": {},
   "outputs": [],
   "source": [
    "sql_conn.query_db(\"SELECT count(*) FROM 's3://<bucket>/<file>';\")"
   ]
  }
 ],
 "metadata": {
  "language_info": {
   "name": "python"
  }
 },
 "nbformat": 4,
 "nbformat_minor": 2
}
