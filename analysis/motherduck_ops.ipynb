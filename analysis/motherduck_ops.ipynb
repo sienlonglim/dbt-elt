{
 "cells": [
  {
   "cell_type": "code",
   "execution_count": 6,
   "metadata": {},
   "outputs": [],
   "source": [
    "import logging\n",
    "import os\n",
    "import sys\n",
    "from pathlib import Path\n",
    "import dotenv\n",
    "import json\n",
    "\n",
    "import pandas as pd"
   ]
  },
  {
   "cell_type": "code",
   "execution_count": 7,
   "metadata": {},
   "outputs": [],
   "source": [
    "logging.basicConfig(stream=sys.stdout)"
   ]
  },
  {
   "cell_type": "code",
   "execution_count": 8,
   "metadata": {},
   "outputs": [],
   "source": [
    "project_name = \"dbt-elt\"\n",
    "paths = []\n",
    "for path in str(Path.cwd().absolute()).split(\"\\\\\"):\n",
    "    paths.append(path)\n",
    "    if project_name in path:\n",
    "        break\n",
    "project_path = \"\\\\\".join(paths)\n",
    "os.chdir(project_path)"
   ]
  },
  {
   "cell_type": "code",
   "execution_count": 9,
   "metadata": {},
   "outputs": [
    {
     "data": {
      "text/plain": [
       "┌───────────────┐\n",
       "│ database_name │\n",
       "│    varchar    │\n",
       "├───────────────┤\n",
       "│ raw           │\n",
       "│ sample_data   │\n",
       "└───────────────┘"
      ]
     },
     "execution_count": 9,
     "metadata": {},
     "output_type": "execute_result"
    }
   ],
   "source": [
    "from customlib.sqldao import DatabaseAccessObject\n",
    "\n",
    "dotenv.load_dotenv(\".env\")\n",
    "\n",
    "sql_conn = DatabaseAccessObject(db=\"MD\")\n",
    "sql_conn.query(\"show databases\")"
   ]
  },
  {
   "cell_type": "code",
   "execution_count": 10,
   "metadata": {},
   "outputs": [],
   "source": [
    "SCHEMA = \"prod\""
   ]
  },
  {
   "cell_type": "code",
   "execution_count": 35,
   "metadata": {},
   "outputs": [],
   "source": [
    "sql_conn.query(\"use raw;\")\n",
    "sql_conn.query(f\"create schema if not exists '{SCHEMA}';\")\n",
    "sql_conn.query(f\"set schema '{SCHEMA}';\")"
   ]
  },
  {
   "cell_type": "code",
   "execution_count": 14,
   "metadata": {},
   "outputs": [
    {
     "data": {
      "text/plain": [
       "┌─────────┐\n",
       "│ Success │\n",
       "│ boolean │\n",
       "├─────────┤\n",
       "│ true    │\n",
       "└─────────┘"
      ]
     },
     "execution_count": 14,
     "metadata": {},
     "output_type": "execute_result"
    }
   ],
   "source": [
    "sql_conn.query(f\"\"\"\n",
    "    CREATE OR REPLACE SECRET IN MOTHERDUCK (\n",
    "        TYPE S3,\n",
    "        KEY_ID '{os.environ['AWS_ACCESS_KEY_ID']}',\n",
    "        SECRET '{os.environ['AWS_SECRET_ACCESS_KEY']}',\n",
    "        REGION '{os.environ['REGION']}'\n",
    "    );\n",
    "\"\"\")"
   ]
  },
  {
   "cell_type": "code",
   "execution_count": 36,
   "metadata": {},
   "outputs": [],
   "source": [
    "sql_conn.query_db(f\"\"\"\n",
    "create table if not exists raw.{SCHEMA}.prod__hdb_resale_records (\n",
    "    _id integer primary key,\n",
    "    month text,\n",
    "    town text,\n",
    "    flat_type text,\n",
    "    block text,\n",
    "    street_name text,\n",
    "    storey_range text,\n",
    "    floor_area_sqm text,\n",
    "    flat_model text,\n",
    "    lease_commence_date text,\n",
    "    remaining_lease text,\n",
    "    resale_price text\t\t\t\t\t\t\t\t\t\n",
    ");\n",
    "\"\"\")"
   ]
  },
  {
   "cell_type": "code",
   "execution_count": 17,
   "metadata": {},
   "outputs": [
    {
     "data": {
      "text/plain": [
       "┌──────────────┐\n",
       "│ count_star() │\n",
       "│    int64     │\n",
       "├──────────────┤\n",
       "│         1072 │\n",
       "└──────────────┘"
      ]
     },
     "execution_count": 17,
     "metadata": {},
     "output_type": "execute_result"
    }
   ],
   "source": [
    "sql_conn.query(f\"SELECT count(*) FROM 's3://{os.environ['AMAZON_S3_BUCKET_NAME']}/dagster-elt/hdb-resale-records/hdb_resale_records_2018-01.json';\")"
   ]
  },
  {
   "cell_type": "code",
   "execution_count": 18,
   "metadata": {},
   "outputs": [],
   "source": [
    "sql_conn.query(f\"\"\"\n",
    "insert into raw.prod.prod__hdb_resale_records\n",
    "select * \n",
    "from 's3://{os.environ['AMAZON_S3_BUCKET_NAME']}/dagster-elt/hdb-resale-records/*.json'\n",
    "\"\"\")"
   ]
  }
 ],
 "metadata": {
  "kernelspec": {
   "display_name": ".venv",
   "language": "python",
   "name": "python3"
  },
  "language_info": {
   "codemirror_mode": {
    "name": "ipython",
    "version": 3
   },
   "file_extension": ".py",
   "mimetype": "text/x-python",
   "name": "python",
   "nbconvert_exporter": "python",
   "pygments_lexer": "ipython3",
   "version": "3.9.13"
  }
 },
 "nbformat": 4,
 "nbformat_minor": 2
}
